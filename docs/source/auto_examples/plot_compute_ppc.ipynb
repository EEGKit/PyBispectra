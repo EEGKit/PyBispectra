{
  "cells": [
    {
      "cell_type": "code",
      "execution_count": null,
      "metadata": {
        "collapsed": false
      },
      "outputs": [],
      "source": [
        "%matplotlib inline"
      ]
    },
    {
      "cell_type": "markdown",
      "metadata": {},
      "source": [
        "\n# Compute phase-phase coupling\n\nThis example demonstrates how phase-phase coupling (PPC) can be computed with\nPyBispectra.\n"
      ]
    },
    {
      "cell_type": "code",
      "execution_count": null,
      "metadata": {
        "collapsed": false
      },
      "outputs": [],
      "source": [
        "import numpy as np\n\nfrom pybispectra import compute_fft, PPC"
      ]
    },
    {
      "cell_type": "markdown",
      "metadata": {},
      "source": [
        "## Background\n\nPPC quantifies the relationship between the phases of a lower frequency\n$f_1$ and a higher frequency $f_2$ within a single signal, or\nacross different signals.\n\nThe method available in PyBispectra can be thought of as a measure of\ncoherence between frequencies :footcite:`Giehl2021` (note that it is not\nbased on bispectra):\n\n$\\large PPC(x_{f_1}, y_{f_2})=\\LARGE \\frac{|\\langle A_x(f_1)A_y(f_2) e^{i(\\varphi_x(f_1)\\frac{f_2}{f_1}-\\varphi_x(f_2))} \\rangle|}{\\langle A_x(f_1)A_y(f_2) \\rangle}$,  # noqa E501\n\nwhere $A(f)$ and $\\varphi(f)$ are the amplitude and phase of a\nsignal at a given frequency, respectively, and the angled brackets represent\nthe average over epochs. The phase of $f_1$ is accelerated to match\nthat of $f_2$ by scaling the phase by a factor of\n$\\frac{f_2}{f_1}$. PPC values for this measure lie in the range\n$[0, 1]$, with 0 representing a random phase relationship, and 1\nrepresenting perfect phase coupling.\n\n"
      ]
    },
    {
      "cell_type": "markdown",
      "metadata": {},
      "source": [
        "## Generating data and computing Fourier coefficients\n\nWe will start by generating some data that we can compute PPC on, then\ncompute the Fourier coefficients of the data.\n\n"
      ]
    },
    {
      "cell_type": "code",
      "execution_count": null,
      "metadata": {
        "collapsed": false
      },
      "outputs": [],
      "source": [
        "# generate data\nrandom = np.random.RandomState(44)\ndata = random.rand(30, 2, 500)  # [epochs x channels x frequencies]\nsfreq = 100  # sampling frequency in Hz\n\n# compute Fourier coeffs.\nfft, freqs = compute_fft(data=data, sfreq=sfreq)\n\nprint(\n    f\"FFT coeffs.: [{fft.shape[0]} epochs x {fft.shape[1]} channels x \"\n    f\"{fft.shape[2]} frequencies]\\nFreq. range: {freqs[0]} - {freqs[-1]} Hz\"\n)"
      ]
    },
    {
      "cell_type": "markdown",
      "metadata": {},
      "source": [
        "As you can see, we have FFT coefficients for 2 channels across 30 epochs,\nwith 101 frequencies ranging from 0 to 50 Hz with a frequency resolution of\n0.5 Hz. We will use these coefficients to compute PPC.\n\n## Computing PPC\n\nTo compute PPC, we start by initialising the :class:`PPC` class object with\nthe FFT coefficients and the frequency information. To compute PPC, we call\nthe :meth:`compute` method. By default, PPC is computed between all channel\nand frequency combinations, however we can also specify particular\ncombinations of interest.\n\nHere, we specify the :attr:`indices` to compute PPC on. :attr:`indices` is\nexpected to be a tuple containing two NumPy arrays for the indices of the\nseed and target channels, respectively. The indices specified below mean that\nPPC will only be computed across frequencies within each channel (i.e.\n0 -> 0; and 1 -> 1). By leaving the frequency arguments :attr:`f1` and\n:attr:`f2` blank, we will look at all possible frequency combinations.\n\n"
      ]
    },
    {
      "cell_type": "code",
      "execution_count": null,
      "metadata": {
        "collapsed": false
      },
      "outputs": [],
      "source": [
        "ppc = PPC(data=fft, freqs=freqs)  # initialise object\nppc.compute(\n    indices=(np.array([0, 1]), np.array([0, 1])), f1=None, f2=None\n)  # compute PPC\n\nppc_results = ppc.results.get_results()  # return results\n\nprint(\n    f\"PPC results: [{ppc_results.shape[0]} connections x \"\n    f\"{ppc_results.shape[1]} f1 x {ppc_results.shape[2]} f2]\"\n)"
      ]
    },
    {
      "cell_type": "markdown",
      "metadata": {},
      "source": [
        "We can see that PPC has been computed for 2 connections (0 -> 0; and 1 -> 1),\nand all possible frequency combinations, averaged across our 30 epochs.\nWhilst there are 10,000 such frequency combinations in our [100 x 100]\nmatrices, PPC for those entries where $f1$ would be higher than\n$f2$ cannot be computed, in which case the values are ``numpy.nan``\n(see the plotted results below for a visual demonstration of this).\n\n"
      ]
    },
    {
      "cell_type": "markdown",
      "metadata": {},
      "source": [
        "## References\n.. footbibliography::\n\n"
      ]
    }
  ],
  "metadata": {
    "kernelspec": {
      "display_name": "Python 3",
      "language": "python",
      "name": "python3"
    },
    "language_info": {
      "codemirror_mode": {
        "name": "ipython",
        "version": 3
      },
      "file_extension": ".py",
      "mimetype": "text/x-python",
      "name": "python",
      "nbconvert_exporter": "python",
      "pygments_lexer": "ipython3",
      "version": "3.10.9"
    }
  },
  "nbformat": 4,
  "nbformat_minor": 0
}